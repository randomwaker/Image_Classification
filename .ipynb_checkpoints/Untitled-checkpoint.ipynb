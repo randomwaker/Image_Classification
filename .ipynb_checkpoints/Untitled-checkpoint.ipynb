{
 "cells": [
  {
   "cell_type": "code",
   "execution_count": 3,
   "metadata": {},
   "outputs": [
    {
     "ename": "SyntaxError",
     "evalue": "invalid syntax (<ipython-input-3-7018f6307bba>, line 6)",
     "output_type": "error",
     "traceback": [
      "\u001b[1;36m  File \u001b[1;32m\"<ipython-input-3-7018f6307bba>\"\u001b[1;36m, line \u001b[1;32m6\u001b[0m\n\u001b[1;33m    except ImportError\u001b[0m\n\u001b[1;37m                      ^\u001b[0m\n\u001b[1;31mSyntaxError\u001b[0m\u001b[1;31m:\u001b[0m invalid syntax\n"
     ]
    }
   ],
   "source": [
    "from PIL import Image\n",
    "import os , glob\n",
    "import numpy as np\n",
    "try:\n",
    "    from sklearn import cross_validation\n",
    "except ImportError:\n",
    "    from sklearn.model_selection import cross_validate\n",
    "\n",
    "classes = [\"monkey\", \"boar\", \"crow\", \"deer\"]\n",
    "\n",
    "num_classes = len(classes)\n",
    "image_size = 50\n",
    "\n",
    "#画像の読み込み\n",
    "\n",
    "X = []\n",
    "Y = []\n",
    "\n",
    "for index, classlabel in enumerate(classes):\n",
    "\tphoto_dir = \"./\" + classlabel\n",
    "\tfiles = glob.glob(photo_dir + \"*.jpg\")\n",
    "\tfor i, file in enumerate(files):\n",
    "\t\tif i >= 200: break\n",
    "\t\timage = image.open(file)\n",
    "\t\timage = image.convert(\"RGB\")\n",
    "\t\timage = image.resize(image_size, image_size)\n",
    "\t\tdata = np.asarray(image)\n",
    "\t\tX.append(data)\n",
    "\t\tY.append(index)\n",
    "\n",
    "X = np.array(X)\n",
    "Y = np.array(Y)\n",
    "\n",
    "\n"
   ]
  },
  {
   "cell_type": "code",
   "execution_count": null,
   "metadata": {},
   "outputs": [],
   "source": []
  }
 ],
 "metadata": {
  "kernelspec": {
   "display_name": "Python 3",
   "language": "python",
   "name": "python3"
  },
  "language_info": {
   "codemirror_mode": {
    "name": "ipython",
    "version": 3
   },
   "file_extension": ".py",
   "mimetype": "text/x-python",
   "name": "python",
   "nbconvert_exporter": "python",
   "pygments_lexer": "ipython3",
   "version": "3.7.3"
  }
 },
 "nbformat": 4,
 "nbformat_minor": 2
}
